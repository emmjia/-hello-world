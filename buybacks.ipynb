{
  "nbformat": 4,
  "nbformat_minor": 0,
  "metadata": {
    "colab": {
      "provenance": []
    },
    "kernelspec": {
      "name": "python3",
      "display_name": "Python 3"
    },
    "language_info": {
      "name": "python"
    }
  },
  "cells": [
    {
      "cell_type": "code",
      "source": [
        "# import os\n",
        "# import openpyxl\n",
        "# import pandas as pd\n",
        "# import numpy as np\n",
        "# import csv\n",
        "\n",
        "# workbook = openpyxl.Workbook()\n",
        "# worksheet = workbook.active\n",
        "\n",
        "# directory = 17405350002\n",
        "# total_collected = 24888.28\n",
        "\n",
        "# c_df = pd.read_csv('/content/bb.csv', header = None).fillna(0)\n",
        "# c_df1 = pd.read_csv('/content/balance.csv', header = None).fillna(0)"
      ],
      "metadata": {
        "id": "He9h4SpIHJ6l"
      },
      "execution_count": null,
      "outputs": []
    },
    {
      "cell_type": "code",
      "source": [
        "# headers = ['account','ac_code','desc','amount','proceeds','late','misc',]\n",
        "# headers = ['account','ac_code','desc','amount','proceeds','late','misc','prin paid']\n",
        "headers = ['account','ac_code','desc','amount','proceeds','late','misc','prin paid','eff date']\n",
        "c_df.columns = headers"
      ],
      "metadata": {
        "id": "N5xYzO5RHE51"
      },
      "execution_count": null,
      "outputs": []
    },
    {
      "cell_type": "code",
      "source": [
        "grouped = c_df.groupby('account')\n",
        "account_dfs = {}\n",
        "\n",
        "for account_number, group in grouped:\n",
        "  account_dfs[account_number] = group\n",
        "\n",
        "account = account_dfs[directory]\n",
        "df = account\n",
        "account = df.iloc[0,0]\n",
        "proceeds = df.iloc[0,4]"
      ],
      "metadata": {
        "id": "K6o-doXFIlIX"
      },
      "execution_count": null,
      "outputs": []
    },
    {
      "cell_type": "code",
      "source": [
        "# Data frame from Prod-App\n",
        "headers = ['account','payment','comment','balance','cust_pmts','pydu','disi','bbwvP','bbwvI','ddis','adis','wpay','ugap','uwar','drsv','ltca','0nf2','repo','coll','impo','mech','auct','rcdn','keys','lfe']\n",
        "c_df1.columns = headers"
      ],
      "metadata": {
        "id": "AjLaDcHICqmw"
      },
      "execution_count": null,
      "outputs": []
    },
    {
      "cell_type": "code",
      "source": [
        "grouped = c_df1.groupby('account')\n",
        "account_dfs = {}\n",
        "for account_number, group in grouped:\n",
        "  account_dfs[account_number] = group\n",
        "\n",
        "account = account_dfs[directory]\n",
        "df1 = account"
      ],
      "metadata": {
        "id": "j6GQU0T6JazT"
      },
      "execution_count": null,
      "outputs": []
    },
    {
      "cell_type": "code",
      "source": [
        "total_due = proceeds + 195\n",
        "bb_checker = total_collected - total_due"
      ],
      "metadata": {
        "id": "ZhAi6_Ddy7ch"
      },
      "execution_count": null,
      "outputs": []
    },
    {
      "cell_type": "code",
      "source": [
        "df['prin paid'] = df['prin paid'].round(2)\n",
        "prin_sum = round(df['prin paid'].sum(), 2)\n",
        "\n",
        "if 'PYDU' or 'DHBB' in df['desc'].values:\n",
        "  pydu_posted = df.loc[(df['desc'] == 'PYDU'), 'prin paid'].sum()\n",
        "  dhbb_posted = df.loc[(df['desc'] == 'DHBB'), 'prin paid'].sum()\n",
        "  already_collected = round(pydu_posted + dhbb_posted, 2)\n",
        "  prin_sum -= (already_collected)\n",
        "  prin_sum = round(prin_sum, 2)\n",
        "else:\n",
        "  pass"
      ],
      "metadata": {
        "id": "-GpIIL4izz7t"
      },
      "execution_count": null,
      "outputs": []
    },
    {
      "cell_type": "code",
      "source": [
        "prin_sum"
      ],
      "metadata": {
        "colab": {
          "base_uri": "https://localhost:8080/"
        },
        "id": "viiVhMrX8G0U",
        "outputId": "e6b09007-1bff-4165-e29a-d9f5f8d4135c"
      },
      "execution_count": null,
      "outputs": [
        {
          "output_type": "execute_result",
          "data": {
            "text/plain": [
              "0.0"
            ]
          },
          "metadata": {},
          "execution_count": 8
        }
      ]
    },
    {
      "cell_type": "code",
      "source": [
        "if bb_checker >=  0:\n",
        "  pydu = total_due\n",
        "elif -195 <= bb_checker < 0:\n",
        "  pydu = total_collected\n",
        "else:\n",
        "  pydu = 0\n",
        "  # if total_collected == 0:\n",
        "  #   pydu = abs(float(df.loc[df['desc'] == 'PYDU', 'amount']))\n",
        "  # else:\n",
        "  #   pydu = abs(float(df.loc[df['desc'] == 'DHBB', 'amount']))"
      ],
      "metadata": {
        "id": "oHjllv-W1-e9"
      },
      "execution_count": null,
      "outputs": []
    },
    {
      "cell_type": "code",
      "source": [
        "late = df1.iloc[0,15]\n",
        "NSF = df1.iloc[0,16]\n",
        "repo = df1.iloc[0,17]\n",
        "impo = df1.iloc[0,19]\n",
        "keys = df1.iloc[0,23]\n",
        "lfe = df1.iloc[0,24]\n",
        "\n",
        "# late_row = {'account':account, 'ac_code':str('46-L'), 'desc':str('LTCA'), 'amount':-late, 'proceeds': proceeds}\n",
        "# nsf_row =  {'account':account, 'ac_code':str('46-6'), 'desc':str('0NF2'), 'amount':(-1 * NSF), 'proceeds': proceeds}\n",
        "# df = df.append(late_row, ignore_index = True)\n",
        "# df = df.append(nsf_row, ignore_index = True)\n",
        "# df = df.iloc[:, :-2]\n",
        "# df['total due'] = total_due"
      ],
      "metadata": {
        "id": "ND7STFvLHptp"
      },
      "execution_count": null,
      "outputs": []
    },
    {
      "cell_type": "code",
      "source": [
        "# if bb_checker >  0:\n",
        "#need an if statement to reduce pydu for just the amount of the bb\n",
        "balance = df1.iloc[0,3]\n",
        "remaining_balance = round(balance - pydu, 2)\n",
        "\n",
        "#bbwvI\n",
        "bbwvI = df1.iloc[0,8]\n",
        "\n",
        "#ddis\n",
        "if 'DDIS' in df['desc'].values:\n",
        "  ddis = abs(df.loc[df['desc'] == 'DDIS', 'amount'].values.item())\n",
        "else:\n",
        "  ddis = 0\n",
        "\n",
        "#adis\n",
        "if pydu == proceeds:\n",
        "  adis = abs(df.loc[df['desc'] == 'ADIS', 'amount'].values.item())\n",
        "elif pydu >= total_due:\n",
        "  adis = abs(df.loc[df['desc'] == 'ADIS', 'amount'].values.item()) - 195\n",
        "elif pydu == 0:\n",
        "  if already_collected == proceeds:\n",
        "    adis = abs(df.loc[df['desc'] == 'ADIS', 'amount'].values.item())\n",
        "  elif already_collected >= total_due:\n",
        "    adis = abs(df.loc[df['desc'] == 'ADIS', 'amount'].values.item()) - 195\n",
        "\n",
        "  # if 'PYDU' in df['desc'].values:\n",
        "  #   pydu_temp = abs(df.loc[df['desc'] == 'PYDU', 'amount'].values.item())\n",
        "  #   if pydu_temp == proceeds:\n",
        "  #     adis = abs(df.loc[df['desc'] == 'ADIS', 'amount'].values.item())\n",
        "  #   elif pydu_temp >= total_due:\n",
        "  #     adis = abs(df.loc[df['desc'] == 'ADIS', 'amount'].values.item()) - 195\n",
        "  # elif 'DHBB' in df['desc'].values:\n",
        "  #   pydu_temp = abs(df.loc[df['desc'] == 'DHBB', 'amount'].values.item())\n",
        "  #   if pydu_temp == proceeds:\n",
        "  #     adis = abs(df.loc[df['desc'] == 'ADIS', 'amount'].values.item())\n",
        "  #   elif pydu_temp >= total_due:\n",
        "  #     adis = abs(df.loc[df['desc'] == 'ADIS', 'amount'].values.item()) - 195\n",
        "\n",
        "#wpay\n",
        "if 'WPAY' in df['desc'].values:\n",
        "  wpay = abs(df.loc[df['desc'] == 'WPAY', 'amount'].values.item())\n",
        "else:\n",
        "  wpay = 0\n",
        "\n",
        "#ugap\n",
        "if 'UGAP' in df['desc'].values:\n",
        "  ugap = abs(df.loc[df['desc'] == 'UGAP', 'amount'].values.item())\n",
        "else:\n",
        "  ugap = 0\n",
        "\n",
        "#uwar\n",
        "if 'UWAR' in df['desc'].values:\n",
        "  uwar = abs(df.loc[df['desc'] == 'UWAR', 'amount'].values.item())\n",
        "else:\n",
        "  uwar = 0\n",
        "\n",
        "#drsv\n",
        "if 'DRSV' in df['desc'].values:\n",
        "  drsv = abs(df.loc[df['desc'] == 'DRSV', 'amount'].values.item())\n",
        "else:\n",
        "  drsv = 0\n",
        "\n",
        "#GPSR\n",
        "if 'GPSR' in df['desc'].values:\n",
        "  gpsr = abs(df.loc[df['desc'] == 'GPSR', 'amount'].values.item())\n",
        "else:\n",
        "  gpsr = 0\n",
        "\n",
        "#released dhfl\n",
        "if 'DHFL' in df['desc'].values:\n",
        "  dhfl = abs(df.loc[df['desc'] == 'DHFL', 'amount'].values.item())\n",
        "else:\n",
        "  dhfl = 0\n",
        "\n",
        "#not released dhfl\n",
        "if 'DHBB' in df['desc'].values:\n",
        "  dhfl = abs(df.loc[df['desc'] == 'DHBB', 'amount'].values.item())\n",
        "else:\n",
        "  dhfl = 0\n",
        "\n",
        "#disi\n",
        "disi = ddis + 195 + ugap + uwar\n",
        "\n",
        "#bbwvP\n",
        "if adis == 0 and wpay == 0 and drsv == 0 and prin_sum == 0:\n",
        "  bbwvP = round(remaining_balance - disi + 195, 2)\n",
        "elif adis == 0 and wpay == 0 and drsv == 0 and prin_sum != 0:\n",
        "  bbwvP = round(remaining_balance - disi + 195 + prin_sum, 2)\n",
        "elif adis != 0 and prin_sum == 0:\n",
        "  bbwvP = round(remaining_balance - disi, 2)\n",
        "elif adis != 0 and prin_sum != 0:\n",
        "  bbwvP = round(remaining_balance - disi + prin_sum, 2)\n",
        "else:\n",
        "  bbwvP = round(remaining_balance - disi, 2)\n",
        "\n",
        "#cst pmts\n",
        "cust_pmts = df1.iloc[0,4]"
      ],
      "metadata": {
        "id": "lMSHQwr7gaZK"
      },
      "execution_count": null,
      "outputs": []
    },
    {
      "cell_type": "code",
      "source": [
        "if adis == 0:\n",
        "\n",
        "  if wpay != 0 and drsv != 0:\n",
        "    if gpsr != 0:\n",
        "      bbwvP_cal1 = wpay + drsv - 195 - gpsr\n",
        "      bbwvP = round(bbwvP - bbwvP_cal1, 2)\n",
        "      disi += bbwvP_cal1\n",
        "    elif gpsr == 0:\n",
        "      bbwvP_cal1 = wpay + drsv - 195\n",
        "      bbwvP = round(bbwvP - bbwvP_cal1, 2)\n",
        "      disi += bbwvP_cal1\n",
        "  elif wpay != 0:\n",
        "    if gpsr != 0:\n",
        "      bbwvP_cal1 = wpay - 195 - gpsr\n",
        "      bbwvP = round(bbwvP - bbwvP_cal1, 2)\n",
        "      disi += bbwvP_cal1\n",
        "    elif gpsr == 0:\n",
        "      bbwvP_cal1 = wpay - 195\n",
        "      bbwvP = round(bbwvP - bbwvP_cal1, 2)\n",
        "      disi += bbwvP_cal1\n",
        "  elif drsv != 0:\n",
        "    if gpsr != 0:\n",
        "      bbwvP_cal1 = drsv - 195 - gpsr\n",
        "      bbwvP = round(bbwvP - bbwvP_cal1, 2)\n",
        "      disi += bbwvP_cal1\n",
        "    elif gpsr == 0:\n",
        "      bbwvP_cal1 = drsv - 195\n",
        "      bbwvP = round(bbwvP - bbwvP_cal1, 2)\n",
        "      disi += bbwvP_cal1\n",
        "  elif wpay == 0 and drsv == 0:\n",
        "    if gpsr != 0:\n",
        "      bbwvP_cal1 = -195 - gpsr\n",
        "      bbwvP = round(bbwvP + gpsr, 2)\n",
        "      disi += bbwvP_cal1\n",
        "    elif gpsr == 0:\n",
        "      bbwvP_cal1 = -195\n",
        "      disi += bbwvP_cal1\n",
        "\n",
        "elif adis == 195:\n",
        "\n",
        "  if wpay != 0 and drsv != 0:\n",
        "    if gpsr != 0:\n",
        "      bbwvP_cal1 = wpay + drsv - gpsr\n",
        "      bbwvP = round(bbwvP - bbwvP_cal1, 2)\n",
        "      disi += bbwvP_cal1\n",
        "    elif gpsr == 0:\n",
        "      bbwvP_cal1 = wpay + drsv\n",
        "      bbwvP = round(bbwvP - bbwvP_cal1, 2)\n",
        "      disi += bbwvP_cal1\n",
        "  elif wpay != 0:\n",
        "    if gpsr != 0:\n",
        "      bbwvP_cal1 = wpay - gpsr\n",
        "      bbwvP = round(bbwvP - bbwvP_cal1, 2)\n",
        "      disi += bbwvP_cal1\n",
        "    elif gpsr == 0:\n",
        "      bbwvP_cal1 = wpay\n",
        "      bbwvP = round(bbwvP - bbwvP_cal1, 2)\n",
        "      disi += bbwvP_cal1\n",
        "  elif drsv != 0:\n",
        "    if gpsr != 0:\n",
        "      bbwvP_cal1 = drsv -gpsr\n",
        "      bbwvP = round(bbwvP - bbwvP_cal1, 2)\n",
        "      disi += bbwvP_cal1\n",
        "    elif gpsr == 0:\n",
        "      bbwvP_cal1 = drsv\n",
        "      bbwvP = round(bbwvP - bbwvP_cal1, 2)\n",
        "      disi += bbwvP_cal1\n",
        "  elif wpay == 0 and drsv == 0:\n",
        "    if gpsr != 0:\n",
        "      bbwvP_cal1 =  -75\n",
        "      bbwvP = round(bbwvP - bbwvP_cal1, 2)\n",
        "      disi += bbwvP_cal1\n",
        "    elif gpsr == 0:\n",
        "      pass"
      ],
      "metadata": {
        "id": "KKc9Yfc6hqcT"
      },
      "execution_count": null,
      "outputs": []
    },
    {
      "cell_type": "code",
      "source": [
        "if bb_checker > 0:\n",
        "  disi -= bb_checker\n",
        "  ddis -= bb_checker"
      ],
      "metadata": {
        "id": "3gWAVnOqjoxz"
      },
      "execution_count": null,
      "outputs": []
    },
    {
      "cell_type": "code",
      "source": [
        "disi -= prin_sum\n",
        "ddis -= prin_sum"
      ],
      "metadata": {
        "id": "uE-CxFd02-PL"
      },
      "execution_count": null,
      "outputs": []
    },
    {
      "cell_type": "code",
      "source": [
        "# # # Add data to the row\n",
        "# data = [directory, total_collected, '', balance, cust_pmts, total_collected, disi, bbwvP, bbwvI, ddis, adis, wpay, ugap, uwar, drsv, late, NSF, '', '', '', gpsr,'','','','']\n",
        "\n",
        "# for col_num, value in enumerate(data, start=1):\n",
        "#     cell = worksheet.cell(row=1, column=col_num, value=value)\n",
        "\n",
        "# # # data\n",
        "# workbook.save('my_file.xlsx')"
      ],
      "metadata": {
        "id": "EG0pwrVGxrkL"
      },
      "execution_count": null,
      "outputs": []
    }
  ]
}